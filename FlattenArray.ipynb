{
 "cells": [
  {
   "cell_type": "markdown",
   "metadata": {},
   "source": [
    "### Flattening an array without a recursive function\n",
    "\n",
    "Let's start with something to test on"
   ]
  },
  {
   "cell_type": "code",
   "execution_count": 50,
   "metadata": {},
   "outputs": [
    {
     "name": "stdout",
     "output_type": "stream",
     "text": [
      "[1, 2, [3, 4, [5], []], [6]]\n"
     ]
    }
   ],
   "source": [
    "X = [1, 2, [3, 4, [5],[]], [6]]\n",
    "print(X)"
   ]
  },
  {
   "cell_type": "markdown",
   "metadata": {},
   "source": [
    "### Intuitively, I would just want to remove the extra '[' and']'\n",
    "\n",
    "I view this as a string manipulation problem, so lets conver this to a string."
   ]
  },
  {
   "cell_type": "code",
   "execution_count": 51,
   "metadata": {},
   "outputs": [
    {
     "name": "stdout",
     "output_type": "stream",
     "text": [
      "[1, 2, [3, 4, [5], []], [6]]\n"
     ]
    }
   ],
   "source": [
    "strX = str(X)\n",
    "print(X)"
   ]
  },
  {
   "cell_type": "markdown",
   "metadata": {},
   "source": [
    "### Great, now I can remove all the brackets, empty spaces, and ' with a string function like `replace`"
   ]
  },
  {
   "cell_type": "code",
   "execution_count": 55,
   "metadata": {},
   "outputs": [
    {
     "name": "stdout",
     "output_type": "stream",
     "text": [
      "1, 2, 3, 4, 5, 6\n"
     ]
    }
   ],
   "source": [
    "Y = strX.replace('[','').replace(']','').replace(\"'\",'').replace(' ,','')\n",
    "print(Y)"
   ]
  },
  {
   "cell_type": "markdown",
   "metadata": {},
   "source": [
    "### Now we have the bare essence of our data in the form of a string, and we can covert back to a list with `split`"
   ]
  },
  {
   "cell_type": "code",
   "execution_count": 44,
   "metadata": {},
   "outputs": [
    {
     "name": "stdout",
     "output_type": "stream",
     "text": [
      "['1', '2', '3', '4', '5', 'hi', '6', '7', 'hello']\n"
     ]
    }
   ],
   "source": [
    "Ysplit = Y.split(', ')\n",
    "print(Ysplit)"
   ]
  },
  {
   "cell_type": "markdown",
   "metadata": {},
   "source": [
    "### Oops, we have a little problem, the numbers turned into strings, luckily, we can define a function that checks if an element is a number so we can turn back into an `int`"
   ]
  },
  {
   "cell_type": "code",
   "execution_count": 38,
   "metadata": {},
   "outputs": [],
   "source": [
    "def isNumber(s):\n",
    "    try:\n",
    "        int(s)\n",
    "        return int(s)\n",
    "    except ValueError:\n",
    "        return s"
   ]
  },
  {
   "cell_type": "markdown",
   "metadata": {},
   "source": [
    "### Let's turn the numbers into string, and we're in business! "
   ]
  },
  {
   "cell_type": "code",
   "execution_count": 45,
   "metadata": {},
   "outputs": [
    {
     "name": "stdout",
     "output_type": "stream",
     "text": [
      "[1, 2, 3, 4, 5, 'hi', 6, 7, 'hello']\n"
     ]
    }
   ],
   "source": [
    "Ynum = [is_number(x) for x in Ysplit]\n",
    "print(Ynum)"
   ]
  },
  {
   "cell_type": "markdown",
   "metadata": {},
   "source": [
    "### Let's put it all together into a function like this:"
   ]
  },
  {
   "cell_type": "code",
   "execution_count": 46,
   "metadata": {},
   "outputs": [],
   "source": [
    "def flattenArray(lst):\n",
    "    def isNumber(s):\n",
    "        try:\n",
    "            int(s)\n",
    "            return int(s)\n",
    "        except ValueError:\n",
    "            return s\n",
    "    Y = str(lst).replace('[','').replace(']','').replace(\"'\",'').split(', ')\n",
    "    Ynum = [isNumber(x) for x in Y]\n",
    "    return Ynum"
   ]
  },
  {
   "cell_type": "markdown",
   "metadata": {},
   "source": [
    "### Let's test this out, and see how it goes:"
   ]
  },
  {
   "cell_type": "code",
   "execution_count": 48,
   "metadata": {},
   "outputs": [
    {
     "name": "stdout",
     "output_type": "stream",
     "text": [
      "[1, 2, 3, 4, 5, 'hi', 6, 7, 'hello']\n",
      "[1, 2, 3, 4, 5, '', 6]\n",
      "[1, 2, 3, 4, 5, 6, 7, 8, 9]\n"
     ]
    }
   ],
   "source": [
    "print(flattenArray([1, 2, [3, 4, [5],['hi']], [6, [[[7, 'hello']]]]]))\n",
    "print(flattenArray([1, 2, [3, 4, [5],[]], [6]]))\n",
    "print(flattenArray([1,2,3, [4,5], 6, [7,8], 9]))"
   ]
  },
  {
   "cell_type": "code",
   "execution_count": null,
   "metadata": {},
   "outputs": [],
   "source": []
  }
 ],
 "metadata": {
  "kernelspec": {
   "display_name": "Python 3",
   "language": "python",
   "name": "python3"
  },
  "language_info": {
   "codemirror_mode": {
    "name": "ipython",
    "version": 3
   },
   "file_extension": ".py",
   "mimetype": "text/x-python",
   "name": "python",
   "nbconvert_exporter": "python",
   "pygments_lexer": "ipython3",
   "version": "3.6.5"
  }
 },
 "nbformat": 4,
 "nbformat_minor": 2
}
