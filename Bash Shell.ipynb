{
 "cells": [
  {
   "cell_type": "markdown",
   "metadata": {},
   "source": [
    "# Overview\n",
    "The purpose of this assignment is for you to become familiar with the basics of the Linux shell and the range of commands that are included in most Linux distributions. This very definitely does not include all of the commands you will need for this course. Instead, it is aimed to help you learn about some basic commands as well as how to discover more on your own. You should use the Linux Pocket Guide and the Linux man command to find specific commands needed to answer these questions and use the Pocket Guide to read about related commands and topics. Yes, Google is also useful, but you should learn your way around the Guide and the standard Linux documentation, which is the primary source.\n",
    "\n",
    "There are two parts of the assignment. In Part I you are asked to run several commands and capture the terminal session in a script file to hand in. Part II consists of several questions to be answered in a separate file. You should turn in both files when you are done.\n",
    "\n"
   ]
  },
  {
   "cell_type": "markdown",
   "metadata": {},
   "source": [
    "# Part I\n",
    "\n",
    "Use the command script hw1.part1 to start a shell and save the input and output into a file hw1.part1. Then run the commands needed to answer the following questions. If you make a few small mistakes you don't need to start over, but either edit the file to remove any substantial errors or include comments (input lines starting with #) next to short goofs so we can follow your output easily. Also don't worry about \"invisible\" control characters like tabs and backspaces that are captured in the script file. That is normal and not something that needs to be fixed.\n",
    "\n",
    "It would also be helpful if you included some comments to identify answers to the different sets of questions to make it easier for the graders to navigate through the output.\n",
    "\n",
    "## Getting Started\n",
    "\n",
    "- Enter a command to print \"Hello world\" on the screen.\n",
    "- Change your password. (You can change it back later if you want - don't forget it, though, you'll need it to log in next time.)\n",
    "- Display the current date and time on the screen.\n",
    "\n",
    "## File paths and directory navigation\n",
    "- Display the full path of your home directory.\n",
    "- Go to your home directory.\n",
    "- List all the files in your current directory.\n",
    "- Now, create a new folder called ‘temp’.\n",
    "- Rename this folder to ‘files’.\n",
    "- Go to the ‘files’ folder.\n",
    "- Run a command to get the current date and time and save the output to a file called 'now'\n",
    "- Copy ‘now’ to a file called 'before'\n",
    "- List all the files in this directory. Use a more detailed listing where you can see the files' permissions, date written, etc.\n",
    "- Create a file called 'temp' without using a text editor. (There are at least three easy ways to do this.)\n",
    "- Rename 'temp' to 'test'\n",
    "- Go up one directory.\n",
    "- Delete the ‘files’ folder with a single command. (The command you use should also delete all of the files inside of the folder.)\n",
    "\n",
    "## permissions\n",
    "- Create a file called 'secretfile' containing the text “It's a secret!” using the echo command.\n",
    "- Change the permission of this file in such a way so that no one can write to it. Use the ls command to show the file name and permissions.\n",
    "- Try to add more text to 'secretfile' using the cat command.\n",
    "- Change permission of this file so that no one can read it. Use the ls command again to show the file name and permissions.\n",
    "- Try to read the file using cat.\n",
    "\n",
    "## Process Information\n",
    "- Enter a command to display the version of the Linux kernel that you are you using.\n",
    "- List all of the processes that are currently running.\n",
    "\n",
    "## Searching\n",
    "- Use grep to display the entry with your username in the file '/etc/passwd'."
   ]
  },
  {
   "cell_type": "markdown",
   "metadata": {},
   "source": [
    "# Part II\n",
    "Use a text editor (emacs suggested - you should learn how to use it at some point, even if you later use something else) to create a plain text file named hw1.part2 containing answers to the following questions:\n",
    "\n",
    "- Use the man pages to find out what wc does. Give a brief description of it here. What does the -l option for wc do?\n",
    "- Run wc on the directory '/etc/passwd' and copy and paste your findings.\n",
    "- What command would you use to a terminate (stop) a process?\n",
    "- What information does the environment variable $HOME store? (Hint: use 'echo $HOME' to investigate.)\n",
    "- List two other important environment variables on your computer and what they store. Why are these variables important?\n",
    "- If you created a file 'bigredbutton' somewhere on your computer and couldn't remember what folder it was in, what command could you use to find it? Just give the name of the command. You do not need to describe all of the necessary arguments.\n",
    "- How is the command in the answer to the previous question different from the 'which' command?\n",
    "- How does the command “echo Hello World! > something” differ from “echo Hello World!”?\n",
    "- Assume we have run the first echo command from the previous question and now we execute “echo more text > something”. Describe what this does.\n",
    "- Now assume we have run the commands in the previous two questions and now we execute “echo yet more text >> something”. Describe what this does."
   ]
  },
  {
   "cell_type": "markdown",
   "metadata": {},
   "source": [
    "Write a jupyter notebook with your solution for each one of the questions."
   ]
  },
  {
   "cell_type": "code",
   "execution_count": null,
   "metadata": {},
   "outputs": [],
   "source": []
  }
 ],
 "metadata": {
  "kernelspec": {
   "display_name": "Python 3",
   "language": "python",
   "name": "python3"
  },
  "language_info": {
   "codemirror_mode": {
    "name": "ipython",
    "version": 3
   },
   "file_extension": ".py",
   "mimetype": "text/x-python",
   "name": "python",
   "nbconvert_exporter": "python",
   "pygments_lexer": "ipython3",
   "version": "3.7.0"
  }
 },
 "nbformat": 4,
 "nbformat_minor": 2
}
