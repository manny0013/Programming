{
 "cells": [
  {
   "cell_type": "markdown",
   "metadata": {},
   "source": [
    "# Part I\n",
    "- Enter a command to print \"Hello world\" on the screen."
   ]
  },
  {
   "cell_type": "code",
   "execution_count": 1,
   "metadata": {},
   "outputs": [
    {
     "name": "stdout",
     "output_type": "stream",
     "text": [
      "Hello World\n"
     ]
    }
   ],
   "source": [
    "echo \"Hello World\""
   ]
  },
  {
   "cell_type": "markdown",
   "metadata": {},
   "source": [
    "- Change your password. (You can change it back later if you want - don't forget it, though, you'll need it to log in next time.)"
   ]
  },
  {
   "cell_type": "code",
   "execution_count": null,
   "metadata": {},
   "outputs": [],
   "source": [
    "passwd -q manny"
   ]
  },
  {
   "cell_type": "markdown",
   "metadata": {},
   "source": [
    "- Display the current date and time on the screen."
   ]
  },
  {
   "cell_type": "code",
   "execution_count": 4,
   "metadata": {},
   "outputs": [
    {
     "name": "stdout",
     "output_type": "stream",
     "text": [
      "Wed Oct 10 14:31:02 EDT 2018\n"
     ]
    }
   ],
   "source": [
    "date"
   ]
  },
  {
   "cell_type": "markdown",
   "metadata": {},
   "source": [
    "- Display the full path of your home directory.\n"
   ]
  },
  {
   "cell_type": "code",
   "execution_count": 2,
   "metadata": {},
   "outputs": [
    {
     "name": "stdout",
     "output_type": "stream",
     "text": [
      "/home/manny\n"
     ]
    }
   ],
   "source": [
    "echo $HOME"
   ]
  },
  {
   "cell_type": "markdown",
   "metadata": {},
   "source": [
    "- Go to your home directory.\n"
   ]
  },
  {
   "cell_type": "code",
   "execution_count": 14,
   "metadata": {},
   "outputs": [],
   "source": [
    "cd ~"
   ]
  },
  {
   "cell_type": "markdown",
   "metadata": {},
   "source": [
    "- List all the files in your current directory.\n"
   ]
  },
  {
   "cell_type": "code",
   "execution_count": 17,
   "metadata": {},
   "outputs": [
    {
     "name": "stdout",
     "output_type": "stream",
     "text": [
      "\u001b[0m\u001b[01;34manaconda3\u001b[0m  \u001b[01;34mDocuments\u001b[0m     \u001b[01;34mMusic\u001b[0m     \u001b[01;34mPublic\u001b[0m     test             \u001b[01;34mVideos\u001b[0m\n",
      "before     \u001b[01;34mDownloads\u001b[0m     now       \u001b[01;34msnap\u001b[0m       Untitled1.ipynb\n",
      "\u001b[01;34mDesktop\u001b[0m    \u001b[01;34mIdeaProjects\u001b[0m  \u001b[01;34mPictures\u001b[0m  \u001b[01;34mTemplates\u001b[0m  Untitled.ipynb\n"
     ]
    }
   ],
   "source": [
    "ls"
   ]
  },
  {
   "cell_type": "markdown",
   "metadata": {},
   "source": [
    "- Now, create a new folder called ‘temp’.\n",
    "- Rename this folder to ‘files’.\n",
    "- Go to the ‘files’ folder.\n",
    "- Run a command to get the current date and time and save the output to a file called 'now'\n",
    "- Copy ‘now’ to a file called 'before'\n",
    "- List all the files in this directory. Use a more detailed listing where you can see the files' permissions, date written, etc."
   ]
  },
  {
   "cell_type": "code",
   "execution_count": 18,
   "metadata": {},
   "outputs": [
    {
     "name": "stdout",
     "output_type": "stream",
     "text": [
      "total 16\n",
      "drwxr-xr-x  2 manny manny 4096 Oct 10 14:50 \u001b[0m\u001b[01;34m.\u001b[0m\n",
      "drwxr-xr-x 32 manny manny 4096 Oct 10 14:50 \u001b[01;34m..\u001b[0m\n",
      "-rw-r--r--  1 manny manny   29 Oct 10 14:50 before\n",
      "-rw-r--r--  1 manny manny   29 Oct 10 14:50 now\n"
     ]
    }
   ],
   "source": [
    "mkdir temp\n",
    "mv temp files\n",
    "cd files\n",
    "date > now\n",
    "cp now before\n",
    "ls -al"
   ]
  },
  {
   "cell_type": "markdown",
   "metadata": {},
   "source": [
    "- Create a file called 'temp' without using a text editor. (There are at least three easy ways to do this.)\n",
    "- Rename 'temp' to 'test'\n",
    "- Go up one directory.\n",
    "- Delete the ‘files’ folder with a single command. (The command you use should also delete all of the files inside of the folder.)"
   ]
  },
  {
   "cell_type": "code",
   "execution_count": 19,
   "metadata": {},
   "outputs": [
    {
     "name": "stdout",
     "output_type": "stream",
     "text": [
      "bash: cd: files: No such file or directory\n"
     ]
    },
    {
     "ename": "",
     "evalue": "1",
     "output_type": "error",
     "traceback": []
    }
   ],
   "source": [
    "touch temp\n",
    "mv temp test\n",
    "cd ..\n",
    "rm -r files/\n",
    "cd files"
   ]
  },
  {
   "cell_type": "markdown",
   "metadata": {},
   "source": [
    "## permissions\n",
    "- Create a file called 'secretfile' containing the text “It's a secret!” using the echo command.\n",
    "- Change the permission of this file in such a way so that no one can write to it. Use the ls command to show the file name and permissions.\n"
   ]
  },
  {
   "cell_type": "code",
   "execution_count": 25,
   "metadata": {},
   "outputs": [
    {
     "name": "stdout",
     "output_type": "stream",
     "text": [
      "-r-xr-xr-x  1 manny manny    15 Oct 10 15:21 \u001b[01;31m\u001b[Ksecretfile\u001b[m\u001b[K\n"
     ]
    }
   ],
   "source": [
    "echo \"It's a secret!\" > secretfile\n",
    "chmod 555 secretfile\n",
    "ls -al | grep -i secretfile"
   ]
  },
  {
   "cell_type": "markdown",
   "metadata": {},
   "source": [
    "- Try to add more text to 'secretfile' using the cat command.\n"
   ]
  },
  {
   "cell_type": "code",
   "execution_count": 23,
   "metadata": {},
   "outputs": [
    {
     "name": "stdout",
     "output_type": "stream",
     "text": [
      "bash: secretfile: Permission denied\n"
     ]
    },
    {
     "ename": "",
     "evalue": "1",
     "output_type": "error",
     "traceback": []
    }
   ],
   "source": [
    "cat \"Some more text\" >> secretfile"
   ]
  },
  {
   "cell_type": "markdown",
   "metadata": {},
   "source": [
    "- Change permission of this file so that no one can read it. Use the ls command again to show the file name and permissions.\n",
    "- Try to read the file using cat.\n"
   ]
  },
  {
   "cell_type": "code",
   "execution_count": 27,
   "metadata": {},
   "outputs": [
    {
     "name": "stdout",
     "output_type": "stream",
     "text": [
      "cat: secretfile: Permission denied\n"
     ]
    },
    {
     "ename": "",
     "evalue": "1",
     "output_type": "error",
     "traceback": []
    }
   ],
   "source": [
    "chmod 333 secretfile\n",
    "cat secretfile"
   ]
  },
  {
   "cell_type": "markdown",
   "metadata": {},
   "source": [
    "## Process Information\n",
    "- Enter a command to display the version of the Linux kernel that you are you using."
   ]
  },
  {
   "cell_type": "code",
   "execution_count": 29,
   "metadata": {
    "scrolled": true
   },
   "outputs": [
    {
     "name": "stdout",
     "output_type": "stream",
     "text": [
      "#39-Ubuntu SMP Mon Sep 24 16:19:09 UTC 2018\n"
     ]
    }
   ],
   "source": [
    "uname -v"
   ]
  },
  {
   "cell_type": "markdown",
   "metadata": {},
   "source": [
    "- List all of the processes that are currently running."
   ]
  },
  {
   "cell_type": "code",
   "execution_count": 32,
   "metadata": {},
   "outputs": [
    {
     "name": "stdout",
     "output_type": "stream",
     "text": [
      "  PID TTY          TIME CMD\n",
      "    1 ?        00:00:23 systemd\n",
      "    2 ?        00:00:00 kthreadd\n",
      "    4 ?        00:00:00 kworker/0:0H\n",
      "    6 ?        00:00:00 mm_percpu_wq\n",
      "    7 ?        00:00:37 ksoftirqd/0\n",
      "    8 ?        00:00:28 rcu_sched\n",
      "    9 ?        00:00:00 rcu_bh\n",
      "   10 ?        00:00:00 migration/0\n",
      "   11 ?        00:00:00 watchdog/0\n",
      "   12 ?        00:00:00 cpuhp/0\n",
      "   13 ?        00:00:00 cpuhp/1\n",
      "   14 ?        00:00:00 watchdog/1\n",
      "   15 ?        00:00:00 migration/1\n",
      "   16 ?        00:00:09 ksoftirqd/1\n",
      "   18 ?        00:00:00 kworker/1:0H\n",
      "   19 ?        00:00:00 cpuhp/2\n",
      "   20 ?        00:00:00 watchdog/2\n",
      "   21 ?        00:00:00 migration/2\n",
      "   22 ?        00:00:24 ksoftirqd/2\n",
      "   24 ?        00:00:00 kworker/2:0H\n",
      "   25 ?        00:00:00 cpuhp/3\n",
      "   26 ?        00:00:00 watchdog/3\n",
      "   27 ?        00:00:00 migration/3\n",
      "   28 ?        00:00:00 ksoftirqd/3\n",
      "   30 ?        00:00:00 kworker/3:0H\n",
      "   31 ?        00:00:00 kdevtmpfs\n",
      "   32 ?        00:00:00 netns\n",
      "   33 ?        00:00:00 rcu_tasks_kthre\n",
      "   34 ?        00:00:00 kauditd\n",
      "   39 ?        00:00:00 khungtaskd\n",
      "   40 ?        00:00:00 oom_reaper\n",
      "   41 ?        00:00:00 writeback\n",
      "   42 ?        00:00:00 kcompactd0\n",
      "   43 ?        00:00:00 ksmd\n",
      "   44 ?        00:00:00 khugepaged\n",
      "   45 ?        00:00:00 crypto\n",
      "   46 ?        00:00:00 kintegrityd\n",
      "   47 ?        00:00:00 kblockd\n",
      "   48 ?        00:00:00 ata_sff\n",
      "   49 ?        00:00:00 md\n",
      "   50 ?        00:00:00 edac-poller\n",
      "   51 ?        00:00:00 devfreq_wq\n",
      "   52 ?        00:00:00 watchdogd\n",
      "   55 ?        00:00:03 kswapd0\n",
      "   56 ?        00:00:00 ecryptfs-kthrea\n",
      "   98 ?        00:00:00 kthrotld\n",
      "   99 ?        00:00:00 acpi_thermal_pm\n",
      "  104 ?        00:00:00 ipv6_addrconf\n",
      "  113 ?        00:00:00 kstrp\n",
      "  135 ?        00:00:00 charger_manager\n",
      "  184 ?        00:00:00 scsi_eh_0\n",
      "  185 ?        00:00:00 scsi_tmf_0\n",
      "  186 ?        00:00:00 scsi_eh_1\n",
      "  187 ?        00:00:00 scsi_tmf_1\n",
      "  188 ?        00:00:00 scsi_eh_2\n",
      "  189 ?        00:00:00 scsi_tmf_2\n",
      "  190 ?        00:00:00 scsi_eh_3\n",
      "  191 ?        00:00:00 scsi_tmf_3\n",
      "  192 ?        00:00:00 scsi_eh_4\n",
      "  193 ?        00:00:00 scsi_tmf_4\n",
      "  194 ?        00:00:00 scsi_eh_5\n",
      "  195 ?        00:00:00 scsi_tmf_5\n",
      "  197 ?        00:00:00 firewire\n",
      "  201 ?        00:00:00 firewire_ohci\n",
      "  202 ?        00:00:00 kworker/u9:0\n",
      "  203 ?        00:00:05 i915/signal:0\n",
      "  204 ?        00:00:00 i915/signal:1\n",
      "  205 ?        00:00:00 i915/signal:2\n",
      "  212 ?        00:00:00 kworker/2:1H\n",
      "  234 ?        00:00:11 jbd2/sda4-8\n",
      "  235 ?        00:00:00 ext4-rsv-conver\n",
      "  274 ?        00:00:03 systemd-journal\n",
      "  300 ?        00:00:01 systemd-udevd\n",
      "  341 ?        00:00:02 kworker/3:1H\n",
      "  345 ?        00:00:00 kworker/u9:1\n",
      "  368 ?        00:00:01 kworker/0:1H\n",
      "  373 ?        00:00:01 kworker/1:1H\n",
      "  379 ?        00:00:00 cfg80211\n",
      "  406 ?        00:00:00 wl_event_handle\n",
      "  561 ?        00:00:00 loop0\n",
      "  574 ?        00:00:00 loop1\n",
      "  580 ?        00:00:00 loop2\n",
      "  582 ?        00:00:00 loop3\n",
      "  585 ?        00:00:00 applesmc-led\n",
      "  588 ?        00:00:00 loop4\n",
      "  589 ?        00:00:00 loop5\n",
      "  593 ?        00:00:00 loop6\n",
      "  594 ?        00:00:00 loop7\n",
      "  595 ?        00:00:00 loop8\n",
      "  596 ?        00:00:00 loop9\n",
      "  597 ?        00:00:00 loop10\n",
      "  599 ?        00:00:00 loop11\n",
      "  601 ?        00:00:00 loop12\n",
      "  619 ?        00:00:00 loop13\n",
      "  620 ?        00:00:00 systemd-timesyn\n",
      "  621 ?        00:00:18 systemd-resolve\n",
      "  714 ?        00:00:00 cron\n",
      "  716 ?        00:00:03 thermald\n",
      "  721 ?        00:00:05 irqbalance\n",
      "  722 ?        00:00:01 accounts-daemon\n",
      "  726 ?        00:00:04 acpid\n",
      "  731 ?        00:00:00 boltd\n",
      "  737 ?        00:00:03 udisksd\n",
      "  739 ?        00:00:01 systemd-logind\n",
      "  744 ?        00:00:36 dbus-daemon\n",
      "  764 ?        00:01:04 NetworkManager\n",
      "  765 ?        00:00:00 wpa_supplicant\n",
      "  766 ?        00:00:00 networkd-dispat\n",
      "  767 ?        00:00:00 bluetoothd\n",
      "  768 ?        00:00:14 iio-sensor-prox\n",
      "  769 ?        00:00:40 avahi-daemon\n",
      "  778 ?        00:00:00 avahi-daemon\n",
      "  781 ?        00:00:00 rsyslogd\n",
      "  783 ?        00:00:00 ModemManager\n",
      "  794 ?        00:00:09 snapd\n",
      "  818 ?        00:00:09 polkitd\n",
      "  849 ?        00:00:00 gdm3\n",
      "  866 ?        00:00:00 gdm-session-wor\n",
      "  875 ?        00:00:01 systemd\n",
      "  876 ?        00:00:00 (sd-pam)\n",
      "  889 ?        00:00:00 gnome-keyring-d\n",
      "  893 tty1     00:00:00 gdm-x-session\n",
      "  895 tty1     00:10:18 Xorg\n",
      "  921 ?        00:00:03 dbus-daemon\n",
      "  924 tty1     00:00:00 gnome-session-b\n",
      " 1024 ?        00:00:00 ssh-agent\n",
      " 1026 ?        00:00:00 at-spi-bus-laun\n",
      " 1032 ?        00:00:00 dbus-daemon\n",
      " 1034 ?        00:00:04 at-spi2-registr\n",
      " 1052 tty1     00:23:58 gnome-shell\n",
      " 1058 ?        00:00:02 upowerd\n",
      " 1092 ?        00:00:00 gvfsd\n",
      " 1097 ?        00:00:00 gvfsd-fuse\n",
      " 1108 ?        00:12:26 pulseaudio\n",
      " 1109 ?        00:00:00 rtkit-daemon\n",
      " 1116 ?        00:00:00 krfcommd\n",
      " 1126 tty1     00:01:24 ibus-daemon\n",
      " 1130 tty1     00:00:00 ibus-dconf\n",
      " 1132 tty1     00:00:00 ibus-x11\n",
      " 1135 ?        00:00:00 ibus-portal\n",
      " 1145 ?        00:00:00 gnome-shell-cal\n",
      " 1149 ?        00:00:00 evolution-sourc\n",
      " 1157 ?        00:00:00 goa-daemon\n",
      " 1167 ?        00:00:00 goa-identity-se\n",
      " 1175 ?        00:00:01 gvfs-udisks2-vo\n",
      " 1179 ?        00:00:00 gvfs-mtp-volume\n",
      " 1183 ?        00:00:00 gvfs-goa-volume\n",
      " 1187 ?        00:00:00 gvfs-afc-volume\n",
      " 1192 ?        00:00:00 gvfs-gphoto2-vo\n",
      " 1196 ?        00:00:18 packagekitd\n",
      " 1201 tty1     00:00:03 gsd-power\n",
      " 1203 tty1     00:00:00 gsd-print-notif\n",
      " 1204 tty1     00:00:00 gsd-rfkill\n",
      " 1206 tty1     00:00:00 gsd-screensaver\n",
      " 1207 tty1     00:00:12 gsd-sharing\n",
      " 1215 tty1     00:00:00 gsd-smartcard\n",
      " 1216 tty1     00:00:00 gsd-sound\n",
      " 1217 tty1     00:00:00 gsd-xsettings\n",
      " 1227 tty1     00:00:00 gsd-wacom\n",
      " 1234 tty1     00:00:00 gsd-a11y-settin\n",
      " 1236 tty1     00:00:00 gsd-clipboard\n",
      " 1239 tty1     00:00:09 gsd-color\n",
      " 1241 tty1     00:00:00 gsd-datetime\n",
      " 1243 tty1     00:00:03 gsd-housekeepin\n",
      " 1246 tty1     00:00:00 gsd-keyboard\n",
      " 1251 tty1     00:00:01 gsd-media-keys\n",
      " 1259 tty1     00:00:00 gsd-mouse\n",
      " 1282 ?        00:00:00 colord\n",
      " 1284 tty1     00:00:00 gsd-printer\n",
      " 1307 tty1     00:00:00 gsd-disk-utilit\n",
      " 1309 tty1     00:00:08 gnome-software\n",
      " 1318 tty1     00:00:02 nautilus-deskto\n",
      " 1325 tty1     00:01:20 skypeforlinux\n",
      " 1337 ?        00:00:02 gvfsd-trash\n",
      " 1351 tty1     00:00:00 skypeforlinux\n",
      " 1359 ?        00:00:00 evolution-calen\n",
      " 1361 ?        00:00:00 dconf-service\n",
      " 1440 ?        00:00:00 evolution-calen\n",
      " 1441 tty1     00:00:27 ibus-engine-sim\n",
      " 1453 ?        00:00:00 evolution-addre\n",
      " 1467 ?        00:00:00 evolution-addre\n",
      " 1484 ?        00:00:00 gconfd-2\n",
      " 1509 tty1     00:00:18 skypeforlinux\n",
      " 1513 ?        00:00:00 whoopsie\n",
      " 1514 ?        00:00:01 kerneloops\n",
      " 1517 ?        00:00:01 kerneloops\n",
      " 1561 tty1     00:03:23 skypeforlinux\n",
      " 1572 ?        00:00:00 gvfsd-metadata\n",
      " 1710 ?        00:00:02 fwupd\n",
      " 3187 tty1     00:00:01 update-notifier\n",
      " 3360 ?        00:00:48 gnome-terminal-\n",
      " 6011 ?        00:17:59 firefox\n",
      " 6520 ?        00:19:50 Web Content\n",
      " 6832 ?        00:00:00 loop14\n",
      " 7324 ?        00:00:03 kworker/2:0\n",
      " 8439 ?        00:00:07 sd_generic\n",
      " 8442 ?        00:00:07 sd_dummy\n",
      " 8445 ?        00:00:07 sd_espeak-ng\n",
      " 8452 ?        00:00:00 speech-dispatch\n",
      " 9668 tty1     01:32:35 thunderbird\n",
      " 9743 ?        00:00:00 gvfsd-http\n",
      "16554 ?        00:00:00 gvfsd-network\n",
      "16576 ?        00:00:00 gvfsd-dnssd\n",
      "19323 ?        00:00:00 kworker/1:1\n",
      "19324 ?        00:00:03 cupsd\n",
      "19325 ?        00:00:15 cups-browsed\n",
      "19379 ?        00:00:00 dbus\n",
      "19440 pts/0    00:00:00 bash\n",
      "20476 ?        00:00:00 kworker/3:1\n",
      "21123 ?        00:00:00 kworker/1:0\n",
      "21713 pts/0    00:00:07 ZMQbg/1\n",
      "21820 ?        00:03:00 Web Content\n",
      "21848 ?        00:00:04 Web Content\n",
      "21938 ?        00:00:00 ZMQbg/1\n",
      "22224 ?        00:00:01 ZMQbg/1\n",
      "22234 pts/2    00:00:00 bash\n",
      "22911 ?        00:00:00 kworker/u8:2\n",
      "22970 ?        00:00:00 kworker/u8:62\n",
      "22990 ?        00:00:00 irq/45-mei_me\n",
      "22991 ?        00:00:00 irq/17-mmc0\n",
      "22992 ?        00:00:00 kworker/3:0\n",
      "22998 ?        00:00:00 kworker/0:1\n",
      "23057 ?        00:00:00 kworker/2:2\n",
      "23097 ?        00:00:00 dhclient\n",
      "23168 ?        00:00:00 dhclient\n",
      "23391 ?        00:00:00 Web Content\n",
      "23413 ?        00:00:00 kworker/0:0\n",
      "23664 ?        00:00:00 kworker/u8:0\n",
      "23665 pts/2    00:00:00 ps\n"
     ]
    }
   ],
   "source": [
    "ps -e"
   ]
  },
  {
   "cell_type": "markdown",
   "metadata": {},
   "source": [
    "\n",
    "## Searching\n",
    "- Use grep to display the entry with your username in the file '/etc/passwd'."
   ]
  },
  {
   "cell_type": "code",
   "execution_count": 33,
   "metadata": {},
   "outputs": [
    {
     "name": "stdout",
     "output_type": "stream",
     "text": [
      "\u001b[01;31m\u001b[Kmanny\u001b[m\u001b[K:x:1000:1000:\u001b[01;31m\u001b[KManny\u001b[m\u001b[K,,,:/home/\u001b[01;31m\u001b[Kmanny\u001b[m\u001b[K:/bin/bash\n"
     ]
    }
   ],
   "source": [
    "cat /etc/passwd | grep -i manny"
   ]
  },
  {
   "cell_type": "markdown",
   "metadata": {},
   "source": [
    "# Part II\n",
    "- Use the man pages to find out what wc does. Give a brief description of it here. What does the -l option for wc do?"
   ]
  },
  {
   "cell_type": "code",
   "execution_count": 34,
   "metadata": {},
   "outputs": [
    {
     "name": "stdout",
     "output_type": "stream",
     "text": [
      "WC(1)                            User Commands                           WC(1)\n",
      "\n",
      "NAME\n",
      "       wc - print newline, word, and byte counts for each file\n",
      "\n",
      "SYNOPSIS\n",
      "       wc [OPTION]... [FILE]...\n",
      "       wc [OPTION]... --files0-from=F\n",
      "\n",
      "DESCRIPTION\n",
      "       Print newline, word, and byte counts for each FILE, and a total line if\n",
      "       more than one FILE is specified.  A word is a non-zero-length  sequence\n",
      "       of characters delimited by white space.\n",
      "\n",
      "       With no FILE, or when FILE is -, read standard input.\n",
      "\n",
      "       The  options  below  may  be  used  to select which counts are printed,\n",
      "       always in the following order: newline, word, character, byte,  maximum\n",
      "       line length.\n",
      "\n",
      "       -c, --bytes\n",
      "              print the byte counts\n",
      "\n",
      "       -m, --chars\n",
      "              print the character counts\n",
      "\n",
      "       -l, --lines\n",
      "              print the newline counts\n",
      "\n",
      "       --files0-from=F\n",
      "              read  input  from the files specified by NUL-terminated names in\n",
      "              file F; If F is - then read names from standard input\n",
      "\n",
      "       -L, --max-line-length\n",
      "              print the maximum display width\n",
      "\n",
      "       -w, --words\n",
      "              print the word counts\n",
      "\n",
      "       --help display this help and exit\n",
      "\n",
      "       --version\n",
      "              output version information and exit\n",
      "\n",
      "AUTHOR\n",
      "       Written by Paul Rubin and David MacKenzie.\n",
      "\n",
      "REPORTING BUGS\n",
      "       GNU coreutils online help: <http://www.gnu.org/software/coreutils/>\n",
      "       Report wc translation bugs to <http://translationproject.org/team/>\n",
      "\n",
      "COPYRIGHT\n",
      "       Copyright © 2017 Free Software Foundation, Inc.   License  GPLv3+:  GNU\n",
      "       GPL version 3 or later <http://gnu.org/licenses/gpl.html>.\n",
      "       This  is  free  software:  you  are free to change and redistribute it.\n",
      "       There is NO WARRANTY, to the extent permitted by law.\n",
      "\n",
      "SEE ALSO\n",
      "       Full documentation at: <http://www.gnu.org/software/coreutils/wc>\n",
      "       or available locally via: info '(coreutils) wc invocation'\n",
      "\n",
      "GNU coreutils 8.28               January 2018                            WC(1)\n"
     ]
    }
   ],
   "source": [
    "man wc"
   ]
  },
  {
   "cell_type": "markdown",
   "metadata": {},
   "source": [
    "## '-l' option for wc just prints the number of lines of text in a file\n",
    "\n",
    "\n",
    "- Run wc on the directory '/etc/passwd' and copy and paste your findings.\n"
   ]
  },
  {
   "cell_type": "code",
   "execution_count": 36,
   "metadata": {},
   "outputs": [
    {
     "name": "stdout",
     "output_type": "stream",
     "text": [
      "  42   71 2455 /etc/passwd\n"
     ]
    }
   ],
   "source": [
    "wc /etc/passwd"
   ]
  },
  {
   "cell_type": "markdown",
   "metadata": {},
   "source": [
    "- What command would you use to a terminate (stop) a process?\n",
    "\n",
    "### kill [process id]\n",
    "\n",
    "- What information does the environment variable $HOME store? (Hint: use 'echo $HOME' to investigate.)\n",
    "\n",
    "### This stores the home directory\n"
   ]
  },
  {
   "cell_type": "code",
   "execution_count": 40,
   "metadata": {},
   "outputs": [
    {
     "name": "stdout",
     "output_type": "stream",
     "text": [
      "/home/manny\n"
     ]
    }
   ],
   "source": [
    "echo $HOME"
   ]
  },
  {
   "cell_type": "markdown",
   "metadata": {},
   "source": [
    "\n",
    "- List two other important environment variables on your computer and what they store. Why are these variables important?\n"
   ]
  },
  {
   "cell_type": "code",
   "execution_count": 42,
   "metadata": {},
   "outputs": [
    {
     "name": "stdout",
     "output_type": "stream",
     "text": [
      "manny\n",
      "\n",
      "/opt/spark/bin:/usr/lib/jvm/java-11-openjdk-amd64/bin:/home/manny/anaconda3/bin:/home/manny/anaconda3/bin:/home/manny/anaconda3/bin:/opt/spark/bin:/home/manny/anaconda3/bin:/usr/lib/jvm/java-11-openjdk-amd64/bin:/home/manny/anaconda3/bin:/usr/lib/jvm/java-11-openjdk-amd64/bin:/usr/local/sbin:/usr/local/bin:/usr/sbin:/usr/bin:/sbin:/bin:/usr/games:/usr/local/games:/snap/bin\n"
     ]
    }
   ],
   "source": [
    "#name of the user\n",
    "echo $USER \n",
    "echo\n",
    "# directories of all the scripts that can be called from the shell\n",
    "echo $PATH"
   ]
  },
  {
   "cell_type": "markdown",
   "metadata": {},
   "source": [
    "\n",
    "- If you created a file 'bigredbutton' somewhere on your computer and couldn't remember what folder it was in, what command could you use to find it? Just give the name of the command. You do not need to describe all of the necessary arguments.\n",
    "\n",
    " "
   ]
  },
  {
   "cell_type": "code",
   "execution_count": 43,
   "metadata": {},
   "outputs": [
    {
     "name": "stdout",
     "output_type": "stream",
     "text": [
      "/home/manny/anaconda3/bin/scala\n"
     ]
    }
   ],
   "source": [
    "which scala"
   ]
  },
  {
   "cell_type": "markdown",
   "metadata": {},
   "source": [
    "\n",
    "- How is the command in the answer to the previous question different from the 'which' command?\n",
    "\n",
    "I just used which. Another command\n",
    "\n",
    "- How does the command “echo Hello World! > something” differ from “echo Hello World!”?\n"
   ]
  },
  {
   "cell_type": "code",
   "execution_count": 46,
   "metadata": {},
   "outputs": [
    {
     "name": "stdout",
     "output_type": "stream",
     "text": [
      "Hello World\n",
      "\n",
      "\n",
      "Hello World!\n"
     ]
    }
   ],
   "source": [
    "# write \"Hello World\" to a file called \"something\"\n",
    "echo \"Hello World\" > something\n",
    "# let's check out the file\n",
    "cat something\n",
    "echo\n",
    "echo\n",
    "# We can just print \"Hello World\" to the screen directly\n",
    "echo \"Hello World!\""
   ]
  },
  {
   "cell_type": "markdown",
   "metadata": {},
   "source": [
    "\n",
    " the first command writes the output to a file called 'something' while the second command prints 'Hello World!' \n",
    "\n",
    "- Assume we have run the first echo command from the previous question and now we execute “echo more text > something”. Describe what this does.\n",
    "\n"
   ]
  },
  {
   "cell_type": "code",
   "execution_count": 47,
   "metadata": {},
   "outputs": [
    {
     "name": "stdout",
     "output_type": "stream",
     "text": [
      "More text\n"
     ]
    }
   ],
   "source": [
    "# we can replace the text in the file called 'something'\n",
    "echo \"More text\" > something\n",
    "# let's see if it changed\n",
    "cat something"
   ]
  },
  {
   "cell_type": "markdown",
   "metadata": {},
   "source": [
    " This replaces all the contents of 'something' with 'more text'\n",
    "\n",
    "- Now assume we have run the commands in the previous two questions and now we execute “echo yet more text >> something”. Describe what this does.\n",
    "\n",
    " This appends 'more text' to 'something'"
   ]
  },
  {
   "cell_type": "code",
   "execution_count": 48,
   "metadata": {},
   "outputs": [
    {
     "name": "stdout",
     "output_type": "stream",
     "text": [
      "More text\n",
      "yet more text\n"
     ]
    }
   ],
   "source": [
    "# We can append to the end of the 'something' file\n",
    "echo \"yet more text\" >> something\n",
    "# Let's check out the contents of the file\n",
    "cat something"
   ]
  }
 ],
 "metadata": {
  "kernelspec": {
   "display_name": "Bash",
   "language": "bash",
   "name": "bash"
  },
  "language_info": {
   "codemirror_mode": "shell",
   "file_extension": ".sh",
   "mimetype": "text/x-sh",
   "name": "bash"
  }
 },
 "nbformat": 4,
 "nbformat_minor": 2
}
